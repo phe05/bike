{
  "nbformat": 4,
  "nbformat_minor": 0,
  "metadata": {
    "colab": {
      "provenance": [],
      "authorship_tag": "ABX9TyPr8MoUNDQP5L+z+rXvvijq",
      "include_colab_link": true
    },
    "kernelspec": {
      "name": "python3",
      "display_name": "Python 3"
    },
    "language_info": {
      "name": "python"
    }
  },
  "cells": [
    {
      "cell_type": "markdown",
      "metadata": {
        "id": "view-in-github",
        "colab_type": "text"
      },
      "source": [
        "<a href=\"https://colab.research.google.com/github/phe05/bike/blob/main/bike.ipynb\" target=\"_parent\"><img src=\"https://colab.research.google.com/assets/colab-badge.svg\" alt=\"Open In Colab\"/></a>"
      ]
    },
    {
      "cell_type": "code",
      "execution_count": 1,
      "metadata": {
        "id": "mMXO4fIYRWOw"
      },
      "outputs": [],
      "source": [
        "a={\n",
        "    \"rentBikeStatus\": {\n",
        "        \"list_total_count\": 5,\n",
        "        \"RESULT\": {\n",
        "            \"CODE\": \"INFO-000\",\n",
        "            \"MESSAGE\": \"정상 처리되었습니다.\"\n",
        "        },\n",
        "        \"row\": [\n",
        "            {\n",
        "                \"rackTotCnt\": \"15\",\n",
        "                \"stationName\": \"102. 망원역 1번출구 앞\",\n",
        "                \"parkingBikeTotCnt\": \"27\",\n",
        "                \"shared\": \"180\",\n",
        "                \"stationLatitude\": \"37.55564880\",\n",
        "                \"stationLongitude\": \"126.91062927\",\n",
        "                \"stationId\": \"ST-4\"\n",
        "            },\n",
        "            {\n",
        "                \"rackTotCnt\": \"14\",\n",
        "                \"stationName\": \"103. 망원역 2번출구 앞\",\n",
        "                \"parkingBikeTotCnt\": \"27\",\n",
        "                \"shared\": \"193\",\n",
        "                \"stationLatitude\": \"37.55495071\",\n",
        "                \"stationLongitude\": \"126.91083527\",\n",
        "                \"stationId\": \"ST-5\"\n",
        "            },\n",
        "            {\n",
        "                \"rackTotCnt\": \"13\",\n",
        "                \"stationName\": \"104. 합정역 1번출구 앞\",\n",
        "                \"parkingBikeTotCnt\": \"15\",\n",
        "                \"shared\": \"115\",\n",
        "                \"stationLatitude\": \"37.55073929\",\n",
        "                \"stationLongitude\": \"126.91508484\",\n",
        "                \"stationId\": \"ST-6\"\n",
        "            },\n",
        "            {\n",
        "                \"rackTotCnt\": \"5\",\n",
        "                \"stationName\": \"105. 합정역 5번출구 앞\",\n",
        "                \"parkingBikeTotCnt\": \"17\",\n",
        "                \"shared\": \"340\",\n",
        "                \"stationLatitude\": \"37.55000687\",\n",
        "                \"stationLongitude\": \"126.91482544\",\n",
        "                \"stationId\": \"ST-7\"\n",
        "            },\n",
        "            {\n",
        "                \"rackTotCnt\": \"12\",\n",
        "                \"stationName\": \"106. 합정역 7번출구 앞\",\n",
        "                \"parkingBikeTotCnt\": \"4\",\n",
        "                \"shared\": \"33\",\n",
        "                \"stationLatitude\": \"37.54864502\",\n",
        "                \"stationLongitude\": \"126.91282654\",\n",
        "                \"stationId\": \"ST-8\"\n",
        "            }\n",
        "        ]\n",
        "    }\n",
        "}"
      ]
    },
    {
      "cell_type": "code",
      "source": [
        "a"
      ],
      "metadata": {
        "colab": {
          "base_uri": "https://localhost:8080/"
        },
        "id": "QQd5Wx3TRbQi",
        "outputId": "c4cee12b-ad1c-4e80-d2a3-1c48c4a08880"
      },
      "execution_count": 2,
      "outputs": [
        {
          "output_type": "execute_result",
          "data": {
            "text/plain": [
              "{'rentBikeStatus': {'list_total_count': 5,\n",
              "  'RESULT': {'CODE': 'INFO-000', 'MESSAGE': '정상 처리되었습니다.'},\n",
              "  'row': [{'rackTotCnt': '15',\n",
              "    'stationName': '102. 망원역 1번출구 앞',\n",
              "    'parkingBikeTotCnt': '27',\n",
              "    'shared': '180',\n",
              "    'stationLatitude': '37.55564880',\n",
              "    'stationLongitude': '126.91062927',\n",
              "    'stationId': 'ST-4'},\n",
              "   {'rackTotCnt': '14',\n",
              "    'stationName': '103. 망원역 2번출구 앞',\n",
              "    'parkingBikeTotCnt': '27',\n",
              "    'shared': '193',\n",
              "    'stationLatitude': '37.55495071',\n",
              "    'stationLongitude': '126.91083527',\n",
              "    'stationId': 'ST-5'},\n",
              "   {'rackTotCnt': '13',\n",
              "    'stationName': '104. 합정역 1번출구 앞',\n",
              "    'parkingBikeTotCnt': '15',\n",
              "    'shared': '115',\n",
              "    'stationLatitude': '37.55073929',\n",
              "    'stationLongitude': '126.91508484',\n",
              "    'stationId': 'ST-6'},\n",
              "   {'rackTotCnt': '5',\n",
              "    'stationName': '105. 합정역 5번출구 앞',\n",
              "    'parkingBikeTotCnt': '17',\n",
              "    'shared': '340',\n",
              "    'stationLatitude': '37.55000687',\n",
              "    'stationLongitude': '126.91482544',\n",
              "    'stationId': 'ST-7'},\n",
              "   {'rackTotCnt': '12',\n",
              "    'stationName': '106. 합정역 7번출구 앞',\n",
              "    'parkingBikeTotCnt': '4',\n",
              "    'shared': '33',\n",
              "    'stationLatitude': '37.54864502',\n",
              "    'stationLongitude': '126.91282654',\n",
              "    'stationId': 'ST-8'}]}}"
            ]
          },
          "metadata": {},
          "execution_count": 2
        }
      ]
    },
    {
      "cell_type": "code",
      "source": [
        "print(a['rentBikeStatus']['row'][0])\n",
        "print(a['rentBikeStatus']['row'][1])\n",
        "print(a['rentBikeStatus']['row'][2])\n",
        "print(a['rentBikeStatus']['row'][3])\n",
        "print(a['rentBikeStatus']['row'][4])"
      ],
      "metadata": {
        "colab": {
          "base_uri": "https://localhost:8080/"
        },
        "id": "H2Qzts43RdYH",
        "outputId": "d34c32cf-463b-45dd-ea2b-33a0c3bc6a4a"
      },
      "execution_count": 9,
      "outputs": [
        {
          "output_type": "stream",
          "name": "stdout",
          "text": [
            "{'rackTotCnt': '15', 'stationName': '102. 망원역 1번출구 앞', 'parkingBikeTotCnt': '27', 'shared': '180', 'stationLatitude': '37.55564880', 'stationLongitude': '126.91062927', 'stationId': 'ST-4'}\n",
            "{'rackTotCnt': '14', 'stationName': '103. 망원역 2번출구 앞', 'parkingBikeTotCnt': '27', 'shared': '193', 'stationLatitude': '37.55495071', 'stationLongitude': '126.91083527', 'stationId': 'ST-5'}\n",
            "{'rackTotCnt': '13', 'stationName': '104. 합정역 1번출구 앞', 'parkingBikeTotCnt': '15', 'shared': '115', 'stationLatitude': '37.55073929', 'stationLongitude': '126.91508484', 'stationId': 'ST-6'}\n",
            "{'rackTotCnt': '5', 'stationName': '105. 합정역 5번출구 앞', 'parkingBikeTotCnt': '17', 'shared': '340', 'stationLatitude': '37.55000687', 'stationLongitude': '126.91482544', 'stationId': 'ST-7'}\n",
            "{'rackTotCnt': '12', 'stationName': '106. 합정역 7번출구 앞', 'parkingBikeTotCnt': '4', 'shared': '33', 'stationLatitude': '37.54864502', 'stationLongitude': '126.91282654', 'stationId': 'ST-8'}\n"
          ]
        }
      ]
    },
    {
      "cell_type": "code",
      "source": [
        "for x in a['rentBikeStatus']['row']:\n",
        " print('대여건수', ':', x['stationName'], x['shared'])"
      ],
      "metadata": {
        "colab": {
          "base_uri": "https://localhost:8080/"
        },
        "id": "Z25cQAsZRzEP",
        "outputId": "fa0a4c01-3288-44a1-8255-34a9ecd0afd6"
      },
      "execution_count": 8,
      "outputs": [
        {
          "output_type": "stream",
          "name": "stdout",
          "text": [
            "대여건수 : 102. 망원역 1번출구 앞 180\n",
            "대여건수 : 103. 망원역 2번출구 앞 193\n",
            "대여건수 : 104. 합정역 1번출구 앞 115\n",
            "대여건수 : 105. 합정역 5번출구 앞 340\n",
            "대여건수 : 106. 합정역 7번출구 앞 33\n"
          ]
        }
      ]
    },
    {
      "cell_type": "code",
      "source": [],
      "metadata": {
        "id": "84J3ecZiSRIK"
      },
      "execution_count": null,
      "outputs": []
    }
  ]
}